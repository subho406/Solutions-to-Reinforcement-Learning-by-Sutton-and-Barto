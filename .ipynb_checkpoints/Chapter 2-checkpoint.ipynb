{
 "cells": [
  {
   "cell_type": "markdown",
   "id": "monetary-riding",
   "metadata": {},
   "source": [
    "# Chapter 2"
   ]
  },
  {
   "cell_type": "markdown",
   "id": "christian-orbit",
   "metadata": {},
   "source": [
    "### Exercise 2.1: \n",
    "$0.5(1+\\frac{1}{|A|})$"
   ]
  },
  {
   "cell_type": "markdown",
   "id": "rocky-machine",
   "metadata": {},
   "source": [
    "### Exercise 2.3\n",
    "In the long run $\\epsilon=0.01$ will have the highest cumulative reward, this is because $\\epsilon=0.01$ will choose the best reward $r_{max}$ 99% times and the mean reward 1% times. On the other hand, $\\epsilon=0.1$ will select $r_{max}$ 90% times.\n",
    "\n",
    "Cumulative reward for for $\\epsilon=0.01$: $0.01 * r_{max} + 0.99 * r{avg}$\n",
    "\n",
    "Cumulative reward for for $\\epsilon=0.1$: $0.1 * r_{max} + 0.9 * r{avg}$\n",
    "\n",
    "### Exercise 2.4\n",
    "Solving and subtituting $\\alpha_{n}$ we get:\n",
    "\n",
    "$\\prod_{1}^{n} (1-\\alpha_{i})Q_1 + \\sum_{1}^{n} ( R_i \\alpha_i \\prod_{i}^{n-1} (1-\\alpha_j) )$"
   ]
  },
  {
   "cell_type": "markdown",
   "id": "established-blink",
   "metadata": {},
   "source": [
    "### Implementation of provided graph"
   ]
  },
  {
   "cell_type": "code",
   "execution_count": 19,
   "id": "varied-section",
   "metadata": {},
   "outputs": [],
   "source": [
    "import numpy as np\n",
    "import matplotlib.pyplot as plt"
   ]
  },
  {
   "cell_type": "code",
   "execution_count": 21,
   "id": "structural-appeal",
   "metadata": {},
   "outputs": [],
   "source": [
    "k=10\n",
    "q_star=np.random.normal(0,1,size=k)"
   ]
  },
  {
   "cell_type": "code",
   "execution_count": 30,
   "id": "distant-sherman",
   "metadata": {},
   "outputs": [
    {
     "data": {
      "text/plain": [
       "array([-0.80701394,  0.19077334, -0.17951037,  0.88322713,  2.3162854 ,\n",
       "       -2.08123127, -0.40297612,  0.94019762,  0.40816453, -0.45699937])"
      ]
     },
     "execution_count": 30,
     "metadata": {},
     "output_type": "execute_result"
    }
   ],
   "source": [
    "q_star"
   ]
  },
  {
   "cell_type": "code",
   "execution_count": 41,
   "id": "stupid-spank",
   "metadata": {},
   "outputs": [],
   "source": [
    "def run_time_steps(q_star,n_steps,evaluations,epsilon,k=10):\n",
    "    avg_rewards=[]\n",
    "    for eval in range(evaluations):\n",
    "        q_star=np.random.normal(0,1,size=k)\n",
    "        rewards=[]\n",
    "        action_values=[0]*len(q_star)\n",
    "        n_used=[0]*len(q_star)\n",
    "        for i in range(0,n_steps):\n",
    "            R_t=np.random.normal(q_star,0.1,size=len(q_star))\n",
    "            if np.random.rand()<epsilon:\n",
    "                #Explorative\n",
    "                act_exp_id=np.random.randint(0,len(q_star))\n",
    "                rewards.append(action_values[act_exp_id])\n",
    "                R_t=np.random.normal(q_star[act_exp_id],1,size=1)\n",
    "                #Update action value\n",
    "                action_values[act_exp_id]=(action_values[act_exp_id]*n_used[act_exp_id]+R_t)/(n_used[act_exp_id]+1)\n",
    "                n_used[act_exp_id]+=1\n",
    "            else:\n",
    "                #Greedy\n",
    "                act_max_id=np.argmax(action_values)\n",
    "                rewards.append(action_values[act_max_id])\n",
    "                R_t=np.random.normal(q_star[act_max_id],1,size=1)\n",
    "                #Update action value\n",
    "                action_values[act_max_id]=(action_values[act_max_id]*n_used[act_max_id]+R_t)/(n_used[act_max_id]+1)\n",
    "                n_used[act_max_id]+=1\n",
    "        avg_rewards.append(rewards)\n",
    "    avg_rewards=np.stack(avg_rewards,axis=-1).mean(-1)\n",
    "    return avg_rewards"
   ]
  },
  {
   "cell_type": "code",
   "execution_count": 43,
   "id": "surface-soviet",
   "metadata": {},
   "outputs": [
    {
     "name": "stderr",
     "output_type": "stream",
     "text": [
      "/opt/homebrew/Caskroom/miniforge/base/lib/python3.9/site-packages/numpy/core/_asarray.py:102: VisibleDeprecationWarning: Creating an ndarray from ragged nested sequences (which is a list-or-tuple of lists-or-tuples-or ndarrays with different lengths or shapes) is deprecated. If you meant to do this, you must specify 'dtype=object' when creating the ndarray.\n",
      "  return array(a, dtype, copy=False, order=order)\n",
      "/opt/homebrew/Caskroom/miniforge/base/lib/python3.9/site-packages/numpy/core/_asarray.py:171: VisibleDeprecationWarning: Creating an ndarray from ragged nested sequences (which is a list-or-tuple of lists-or-tuples-or ndarrays with different lengths or shapes) is deprecated. If you meant to do this, you must specify 'dtype=object' when creating the ndarray.\n",
      "  return array(a, dtype, copy=False, order=order, subok=True)\n",
      "/opt/homebrew/Caskroom/miniforge/base/lib/python3.9/site-packages/numpy/core/_asarray.py:102: VisibleDeprecationWarning: Creating an ndarray from ragged nested sequences (which is a list-or-tuple of lists-or-tuples-or ndarrays with different lengths or shapes) is deprecated. If you meant to do this, you must specify 'dtype=object' when creating the ndarray.\n",
      "  return array(a, dtype, copy=False, order=order)\n",
      "/opt/homebrew/Caskroom/miniforge/base/lib/python3.9/site-packages/numpy/core/_asarray.py:171: VisibleDeprecationWarning: Creating an ndarray from ragged nested sequences (which is a list-or-tuple of lists-or-tuples-or ndarrays with different lengths or shapes) is deprecated. If you meant to do this, you must specify 'dtype=object' when creating the ndarray.\n",
      "  return array(a, dtype, copy=False, order=order, subok=True)\n",
      "/opt/homebrew/Caskroom/miniforge/base/lib/python3.9/site-packages/numpy/core/_asarray.py:102: VisibleDeprecationWarning: Creating an ndarray from ragged nested sequences (which is a list-or-tuple of lists-or-tuples-or ndarrays with different lengths or shapes) is deprecated. If you meant to do this, you must specify 'dtype=object' when creating the ndarray.\n",
      "  return array(a, dtype, copy=False, order=order)\n",
      "/opt/homebrew/Caskroom/miniforge/base/lib/python3.9/site-packages/numpy/core/_asarray.py:171: VisibleDeprecationWarning: Creating an ndarray from ragged nested sequences (which is a list-or-tuple of lists-or-tuples-or ndarrays with different lengths or shapes) is deprecated. If you meant to do this, you must specify 'dtype=object' when creating the ndarray.\n",
      "  return array(a, dtype, copy=False, order=order, subok=True)\n"
     ]
    },
    {
     "data": {
      "image/png": "[encoded data removed]",
      "text/plain": [
       "<Figure size 432x288 with 1 Axes>"
      ]
     },
     "metadata": {
      "needs_background": "light"
     },
     "output_type": "display_data"
    }
   ],
   "source": [
    "eps0_1_reward=run_time_steps(q_star,1000,2000,0.1,)\n",
    "plt.plot(range(0,len(eps0_1_reward)),eps0_1_reward,label='0.1')\n",
    "eps0_1_reward=run_time_steps(q_star,1000,2000,0.01)\n",
    "plt.plot(range(0,len(eps0_1_reward)),eps0_1_reward,label='0.01')\n",
    "eps0_1_reward=run_time_steps(q_star,1000,2000,0)\n",
    "plt.plot(range(0,len(eps0_1_reward)),eps0_1_reward,label='0')\n",
    "plt.legend()\n",
    "plt.show()"
   ]
  },
  {
   "cell_type": "markdown",
   "id": "opponent-scheduling",
   "metadata": {},
   "source": [
    "### Exercise 2.5"
   ]
  },
  {
   "cell_type": "code",
   "execution_count": 47,
   "id": "minus-brown",
   "metadata": {},
   "outputs": [
    {
     "data": {
      "text/plain": [
       "array([-0.29041084, -0.29041084, -0.29041084, -0.29041084, -0.29041084,\n",
       "       -0.29041084, -0.29041084, -0.29041084, -0.29041084, -0.29041084])"
      ]
     },
     "execution_count": 47,
     "metadata": {},
     "output_type": "execute_result"
    }
   ],
   "source": [
    "np.random.normal(0,1,size=1).repeat(10)"
   ]
  },
  {
   "cell_type": "code",
   "execution_count": 67,
   "id": "outstanding-scanning",
   "metadata": {},
   "outputs": [],
   "source": [
    "def run_time_steps_ex25_sampleavg(n_steps,evaluations,epsilon,k=10):\n",
    "    avg_rewards=[]\n",
    "    optimal_count=[0]*n_steps\n",
    "    for eval in range(evaluations):\n",
    "        q_star=np.random.normal(0,1,size=1).repeat(k) #Single q_star\n",
    "        rewards=[]\n",
    "        action_values=[0]*len(q_star)\n",
    "        n_used=[0]*len(q_star)\n",
    "        for i in range(0,n_steps):\n",
    "            q_star+=np.random.normal(0,0.01,size=len(q_star))\n",
    "            if np.random.rand()<epsilon:\n",
    "                #Explorative\n",
    "                act_exp_id=np.random.randint(0,len(q_star))\n",
    "                rewards.append(action_values[act_exp_id])\n",
    "                R_t=np.random.normal(q_star[act_exp_id],1,size=1)\n",
    "                #Update action value\n",
    "                action_values[act_exp_id]=(action_values[act_exp_id]*n_used[act_exp_id]+R_t)/(n_used[act_exp_id]+1)\n",
    "                n_used[act_exp_id]+=1\n",
    "                #Update optimal action\n",
    "                if np.argmax(q_star)==act_exp_id:\n",
    "                    optimal_count[i]+=1\n",
    "            else:\n",
    "                #Greedy\n",
    "                act_max_id=np.argmax(action_values)\n",
    "                rewards.append(action_values[act_max_id])\n",
    "                R_t=np.random.normal(q_star[act_max_id],1,size=1)\n",
    "                #Update action value\n",
    "                action_values[act_max_id]=(action_values[act_max_id]*n_used[act_max_id]+R_t)/(n_used[act_max_id]+1)\n",
    "                n_used[act_max_id]+=1\n",
    "                if np.argmax(q_star)==act_max_id:\n",
    "                    optimal_count[i]+=1 \n",
    "        avg_rewards.append(rewards)\n",
    "    avg_rewards=np.stack(avg_rewards,axis=-1).mean(-1)\n",
    "    optimal_count=np.array(optimal_count)/evaluations\n",
    "    return avg_rewards,optimal_count"
   ]
  },
  {
   "cell_type": "code",
   "execution_count": 68,
   "id": "sized-belize",
   "metadata": {},
   "outputs": [],
   "source": [
    "def run_time_steps_ex25_alpha(n_steps,evaluations,epsilon,alpha,k=10):\n",
    "    avg_rewards=[]\n",
    "    optimal_count=[0]*n_steps\n",
    "    for eval in range(evaluations):\n",
    "        q_star=np.random.normal(0,1,size=1).repeat(k) #Single q_star\n",
    "        rewards=[]\n",
    "        action_values=[0]*len(q_star)\n",
    "        n_used=[0]*len(q_star)\n",
    "        for i in range(0,n_steps):\n",
    "            q_star+=np.random.normal(0,0.01,size=len(q_star))\n",
    "            if np.random.rand()<epsilon:\n",
    "                #Explorative\n",
    "                act_exp_id=np.random.randint(0,len(q_star))\n",
    "                rewards.append(action_values[act_exp_id])\n",
    "                R_t=np.random.normal(q_star[act_exp_id],1,size=1)\n",
    "                #Update action value\n",
    "                action_values[act_exp_id]=action_values[act_exp_id]+alpha*(R_t-action_values[act_exp_id])\n",
    "                n_used[act_exp_id]+=1\n",
    "                #Update optimal action\n",
    "                if np.argmax(q_star)==act_exp_id:\n",
    "                    optimal_count[i]+=1\n",
    "            else:\n",
    "                #Greedy\n",
    "                act_max_id=np.argmax(action_values)\n",
    "                rewards.append(action_values[act_max_id])\n",
    "                R_t=np.random.normal(q_star[act_max_id],1,size=1)\n",
    "                #Update action value\n",
    "                action_values[act_max_id]=action_values[act_max_id]+alpha*(R_t-action_values[act_max_id])\n",
    "                n_used[act_max_id]+=1\n",
    "                if np.argmax(q_star)==act_max_id:\n",
    "                    optimal_count[i]+=1 \n",
    "        avg_rewards.append(rewards)\n",
    "    avg_rewards=np.stack(avg_rewards,axis=-1).mean(-1)\n",
    "    optimal_count=np.array(optimal_count)/evaluations\n",
    "    return avg_rewards,optimal_count"
   ]
  },
  {
   "cell_type": "code",
   "execution_count": null,
   "id": "rough-watch",
   "metadata": {},
   "outputs": [
    {
     "name": "stderr",
     "output_type": "stream",
     "text": [
      "/opt/homebrew/Caskroom/miniforge/base/lib/python3.9/site-packages/numpy/core/_asarray.py:102: VisibleDeprecationWarning: Creating an ndarray from ragged nested sequences (which is a list-or-tuple of lists-or-tuples-or ndarrays with different lengths or shapes) is deprecated. If you meant to do this, you must specify 'dtype=object' when creating the ndarray.\n",
      "  return array(a, dtype, copy=False, order=order)\n"
     ]
    }
   ],
   "source": [
    "sample_avg_rewards,sample_avg_optimal_count=run_time_steps_ex25_sampleavg(10000,2000,0.1,)\n",
    "alpha_rewards,alpha_optimal_count=run_time_steps_ex25_alpha(10000,2000,0.1,0.1)\n",
    "\n",
    "plt.plot(range(0,len(sample_avg_rewards)),sample_avg_rewards,label='sample average method')\n",
    "\n",
    "plt.plot(range(0,len(alpha_rewards)),alpha_rewards,label='alpha = 0.1')\n",
    "plt.legend()\n",
    "plt.show()\n",
    "\n",
    "plt.plot(range(0,len(sample_avg_optimal_count)),sample_avg_optimal_count,label='sample avg method')\n",
    "plt.plot(range(0,len(alpha_optimal_count)),alpha_optimal_count,label='alpha = 0.1')\n",
    "plt.legend()\n",
    "plt.show()"
   ]
  }
 ],
 "metadata": {
  "kernelspec": {
   "display_name": "Python 3",
   "language": "python",
   "name": "python3"
  },
  "language_info": {
   "codemirror_mode": {
    "name": "ipython",
    "version": 3
   },
   "file_extension": ".py",
   "mimetype": "text/x-python",
   "name": "python",
   "nbconvert_exporter": "python",
   "pygments_lexer": "ipython3",
   "version": "3.9.2"
  }
 },
 "nbformat": 4,
 "nbformat_minor": 5
}
